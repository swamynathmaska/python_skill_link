{
 "cells": [
  {
   "cell_type": "markdown",
   "id": "53a17242",
   "metadata": {},
   "source": [
    "# File Input and Output"
   ]
  },
  {
   "cell_type": "code",
   "execution_count": 6,
   "id": "7e4dd05a",
   "metadata": {},
   "outputs": [
    {
     "name": "stdout",
     "output_type": "stream",
     "text": [
      "Dear Maska Swamy,\n",
      "\n",
      "Thank you so much for reaching out to the Skill-Lync customer support team.\n",
      "\n",
      "Weâ€™ve received your request [reference number - #1083909], and we just want to let you know that weâ€™re working on it.\n",
      "\n",
      "Youâ€™ll hear back from us within 48 hours.\n",
      "\n",
      "Thank you for being a Skill-Lync customer.\n",
      "\n",
      "This is an auto-generated response. Please do not reply to this email.\n",
      "\n"
     ]
    }
   ],
   "source": [
    "#program to read the contents of an existing file\n",
    "file_obj=open(\"messages.txt\",\"r\")\n",
    "lines=file_obj.readlines()\n",
    "for line in lines:\n",
    "    print(line,end=\"\")\n",
    "file_obj.close()"
   ]
  },
  {
   "cell_type": "code",
   "execution_count": 7,
   "id": "e204b65b",
   "metadata": {},
   "outputs": [
    {
     "name": "stdout",
     "output_type": "stream",
     "text": [
      "writing to file\n"
     ]
    }
   ],
   "source": [
    "#write some message into a file called my_new_file.tt\n",
    "print(\"writing to file\")\n",
    "f=open(\"my_new_file.txt\",\"w\")\n",
    "f.write(\"hellow from python !! \\n\")\n",
    "f.write(\"working with files is eassy !!\\n\")\n",
    "f.write(\"It is cool.......\\n\")\n",
    "f.close()"
   ]
  },
  {
   "cell_type": "code",
   "execution_count": 8,
   "id": "432a5cb3",
   "metadata": {},
   "outputs": [
    {
     "name": "stdout",
     "output_type": "stream",
     "text": [
      "hellow from python !! \n",
      "working with files is eassy !!\n",
      "It is cool.......\n"
     ]
    }
   ],
   "source": [
    "# from above file is creted then read with 1st pgm\n",
    "file_obj=open(\"my_new_file.txt\",\"r\")\n",
    "lines=file_obj.readlines()\n",
    "for line in lines:\n",
    "    print(line,end=\"\")\n",
    "file_obj.close()"
   ]
  },
  {
   "cell_type": "code",
   "execution_count": 11,
   "id": "94a7464b",
   "metadata": {},
   "outputs": [
    {
     "name": "stdout",
     "output_type": "stream",
     "text": [
      "Dear Maska Swamy,\n",
      "\n",
      "Thank you so much for reaching out to the Skill-Lync customer support team.\n",
      "\n",
      "Weâ€™ve received your request [reference number - #1083909], and we just want to let you know that weâ€™re working on it.\n",
      "\n",
      "Youâ€™ll hear back from us within 48 hours.\n",
      "\n",
      "Thank you for being a Skill-Lync customer.\n",
      "\n",
      "This is an auto-generated response. Please do not reply to this email.\n",
      "\n"
     ]
    }
   ],
   "source": [
    "#program to read with \"with\" the contents of an existing file\n",
    "with open(\"messages.txt\",\"r\") as file_obj:\n",
    "    lines=file_obj.readlines()\n",
    "    for line in lines:\n",
    "        print(line,end=\"\")\n",
    "# NOTE: with statement Automatically closed File."
   ]
  },
  {
   "cell_type": "markdown",
   "id": "05d21f7e",
   "metadata": {},
   "source": [
    "# Attributes"
   ]
  },
  {
   "cell_type": "code",
   "execution_count": 17,
   "id": "30644453",
   "metadata": {},
   "outputs": [
    {
     "name": "stdout",
     "output_type": "stream",
     "text": [
      "the file is close :  True\n",
      "the file is in which mode : r\n",
      "the file is associated with : messages.txt\n"
     ]
    }
   ],
   "source": [
    "print(\"the file is close : \",file_obj.closed)\n",
    "print(\"the file is in which mode :\",file_obj.mode)\n",
    "print(\"the file is associated with :\",file_obj.name)"
   ]
  },
  {
   "cell_type": "markdown",
   "id": "64091e41",
   "metadata": {},
   "source": [
    "# WW6-2 seek method"
   ]
  },
  {
   "cell_type": "code",
   "execution_count": 6,
   "id": "e132023a",
   "metadata": {},
   "outputs": [
    {
     "name": "stdout",
     "output_type": "stream",
     "text": [
      "abcdefghijklmnopqrstuvwxyz \n",
      " Hello Word "
     ]
    }
   ],
   "source": [
    "\n",
    "f=open(\"text.txt\",\"w\")\n",
    "f.write(\"abcdefghijklmnopqrstuvwxyz \\n\")\n",
    "f.write(\"Hello Word\")\n",
    "f.seek(10,0)\n",
    "#f.write(\"maska\")   # if write anything here it start from 10th position of courser and over write the next positional chars\n",
    "#f.seek(6,0)  # if write anything here it start from 6th position of courser and over write the next positional chars\n",
    "#f.write(\"Hiii\")\n",
    "f.close()\n",
    "with open(\"text.txt\",\"r\") as f:\n",
    "    for line in f:\n",
    "        print(line,end=\" \")\n",
    "        \n",
    "\n",
    "# NOTE: f.seek(ending position,starting position )"
   ]
  },
  {
   "cell_type": "markdown",
   "id": "a48afbba",
   "metadata": {},
   "source": [
    "# Serializatoion"
   ]
  },
  {
   "cell_type": "code",
   "execution_count": 16,
   "id": "e2275561",
   "metadata": {},
   "outputs": [],
   "source": [
    "#1\n",
    "import json\n",
    "f=open(\"student_data\",\"w\")\n",
    "student=(\"suresh\",90,99.879)\n",
    "json.dump(student,f) # data dumped to f file which is created in perticular location\n",
    "f.close()"
   ]
  },
  {
   "cell_type": "code",
   "execution_count": 17,
   "id": "61739fd2",
   "metadata": {},
   "outputs": [],
   "source": [
    "#2\n",
    "import json\n",
    "f=open(\"student_data2\",\"w\")\n",
    "student={\"Name\":\"swamy\",\"age\":27,\"percentage\":99.8}\n",
    "json.dump(student,f) # data dumped to f file which is created in perticular location\n",
    "f.close()"
   ]
  },
  {
   "cell_type": "markdown",
   "id": "9135ebdf",
   "metadata": {},
   "source": [
    "# Deserialization"
   ]
  },
  {
   "cell_type": "code",
   "execution_count": 18,
   "id": "45545163",
   "metadata": {},
   "outputs": [
    {
     "name": "stdout",
     "output_type": "stream",
     "text": [
      "The data read is :  ['suresh', 90, 99.879]\n",
      "The type of student object is :  <class 'list'>\n"
     ]
    }
   ],
   "source": [
    "#1\n",
    "import json\n",
    "f=open(\"student_data\",\"r\")\n",
    "student=json.load(f)\n",
    "print(\"The data read is : \",student)\n",
    "print(\"The type of student object is : \",type(student))"
   ]
  },
  {
   "cell_type": "code",
   "execution_count": 19,
   "id": "f6619e0e",
   "metadata": {},
   "outputs": [
    {
     "name": "stdout",
     "output_type": "stream",
     "text": [
      "The data read is :  {'Name': 'swamy', 'age': 27, 'percentage': 99.8}\n",
      "The type of student object is :  <class 'dict'>\n"
     ]
    }
   ],
   "source": [
    "#2\n",
    "import json\n",
    "f=open(\"student_data2\",\"r\")\n",
    "student=json.load(f)\n",
    "print(\"The data read is : \",student)\n",
    "print(\"The type of student object is : \",type(student))"
   ]
  },
  {
   "cell_type": "markdown",
   "id": "47f83279",
   "metadata": {},
   "source": [
    "# Directory Operations"
   ]
  },
  {
   "cell_type": "code",
   "execution_count": 3,
   "id": "1e270e8f",
   "metadata": {},
   "outputs": [
    {
     "name": "stdout",
     "output_type": "stream",
     "text": [
      "The current working directory : \n",
      " C:\\Users\\SUBBU\\skill_lync\n",
      "List the contents of current directory : \n",
      " ['.ipynb_checkpoints', 'messages.txt', 'mydirctory', 'mydirctory_1', 'my_new_file.txt', 'student_data', 'student_data2', 'text.txt', 'ww1.ipynb', 'ww2.ipynb', 'ww3.ipynb', 'ww4.ipynb', 'ww5.ipynb', 'ww6_class.ipynb']\n",
      "Let us create a directory : \n"
     ]
    },
    {
     "ename": "FileExistsError",
     "evalue": "[WinError 183] Cannot create a file when that file already exists: 'mydirctory'",
     "output_type": "error",
     "traceback": [
      "\u001b[1;31m---------------------------------------------------------------------------\u001b[0m",
      "\u001b[1;31mFileExistsError\u001b[0m                           Traceback (most recent call last)",
      "Cell \u001b[1;32mIn[3], line 8\u001b[0m\n\u001b[0;32m      5\u001b[0m \u001b[38;5;28mprint\u001b[39m(\u001b[38;5;124m\"\u001b[39m\u001b[38;5;124mList the contents of current directory : \u001b[39m\u001b[38;5;130;01m\\n\u001b[39;00m\u001b[38;5;124m\"\u001b[39m,os\u001b[38;5;241m.\u001b[39mlistdir())\n\u001b[0;32m      7\u001b[0m \u001b[38;5;28mprint\u001b[39m(\u001b[38;5;124m\"\u001b[39m\u001b[38;5;124mLet us create a directory : \u001b[39m\u001b[38;5;124m\"\u001b[39m)\n\u001b[1;32m----> 8\u001b[0m \u001b[43mos\u001b[49m\u001b[38;5;241;43m.\u001b[39;49m\u001b[43mmkdir\u001b[49m\u001b[43m(\u001b[49m\u001b[38;5;124;43m\"\u001b[39;49m\u001b[38;5;124;43mmydirctory\u001b[39;49m\u001b[38;5;124;43m\"\u001b[39;49m\u001b[43m)\u001b[49m\n\u001b[0;32m      9\u001b[0m \u001b[38;5;28mprint\u001b[39m(\u001b[38;5;124m\"\u001b[39m\u001b[38;5;124mthe content of the directory is :\u001b[39m\u001b[38;5;124m\"\u001b[39m,os\u001b[38;5;241m.\u001b[39mlistdir())\n",
      "\u001b[1;31mFileExistsError\u001b[0m: [WinError 183] Cannot create a file when that file already exists: 'mydirctory'"
     ]
    }
   ],
   "source": [
    "import os\n",
    "\n",
    "print(\"The current working directory : \\n\",os.getcwd())\n",
    "\n",
    "print(\"List the contents of current directory : \\n\",os.listdir())\n",
    "\n",
    "print(\"Let us create a directory : \")\n",
    "os.mkdir(\"mydirctory\")\n",
    "print(\"the content of the directory is :\",os.listdir())"
   ]
  },
  {
   "cell_type": "code",
   "execution_count": 5,
   "id": "4436bedb",
   "metadata": {},
   "outputs": [
    {
     "ename": "FileExistsError",
     "evalue": "[WinError 183] Cannot create a file when that file already exists: 'mydir'",
     "output_type": "error",
     "traceback": [
      "\u001b[1;31m---------------------------------------------------------------------------\u001b[0m",
      "\u001b[1;31mFileExistsError\u001b[0m                           Traceback (most recent call last)",
      "Cell \u001b[1;32mIn[5], line 1\u001b[0m\n\u001b[1;32m----> 1\u001b[0m \u001b[43mos\u001b[49m\u001b[38;5;241;43m.\u001b[39;49m\u001b[43mmkdir\u001b[49m\u001b[43m(\u001b[49m\u001b[38;5;124;43m\"\u001b[39;49m\u001b[38;5;124;43mmydir\u001b[39;49m\u001b[38;5;124;43m\"\u001b[39;49m\u001b[43m)\u001b[49m  \u001b[38;5;66;03m# one more dir is created\u001b[39;00m\n\u001b[0;32m      2\u001b[0m os\u001b[38;5;241m.\u001b[39mchdir(\u001b[38;5;124m\"\u001b[39m\u001b[38;5;124mmydir\u001b[39m\u001b[38;5;124m\"\u001b[39m)\n",
      "\u001b[1;31mFileExistsError\u001b[0m: [WinError 183] Cannot create a file when that file already exists: 'mydir'"
     ]
    }
   ],
   "source": [
    "os.mkdir(\"mydir\")  # one more dir is created\n"
   ]
  },
  {
   "cell_type": "code",
   "execution_count": 6,
   "id": "ed434591",
   "metadata": {},
   "outputs": [],
   "source": [
    "os.chdir(\"mydir\") # now enter into present created dir"
   ]
  },
  {
   "cell_type": "code",
   "execution_count": 7,
   "id": "bf0cebac",
   "metadata": {},
   "outputs": [
    {
     "data": {
      "text/plain": [
       "'C:\\\\Users\\\\SUBBU\\\\skill_lync\\\\mydir'"
      ]
     },
     "execution_count": 7,
     "metadata": {},
     "output_type": "execute_result"
    }
   ],
   "source": [
    "os.getcwd() # find location"
   ]
  },
  {
   "cell_type": "code",
   "execution_count": 8,
   "id": "d45d732c",
   "metadata": {},
   "outputs": [],
   "source": [
    "os.chdir(\"..\") # one step back from the directory"
   ]
  },
  {
   "cell_type": "code",
   "execution_count": 9,
   "id": "d347c72e",
   "metadata": {},
   "outputs": [
    {
     "data": {
      "text/plain": [
       "'C:\\\\Users\\\\SUBBU\\\\skill_lync'"
      ]
     },
     "execution_count": 9,
     "metadata": {},
     "output_type": "execute_result"
    }
   ],
   "source": [
    "os.getcwd()  # find location"
   ]
  },
  {
   "cell_type": "code",
   "execution_count": 10,
   "id": "68718391",
   "metadata": {},
   "outputs": [
    {
     "name": "stdout",
     "output_type": "stream",
     "text": [
      "contents in skill_lync : ['.ipynb_checkpoints', 'messages.txt', 'mydir', 'mydirctory', 'mydirctory_1', 'my_new_file.txt', 'student_data', 'student_data2', 'text.txt', 'ww1.ipynb', 'ww2.ipynb', 'ww3.ipynb', 'ww4.ipynb', 'ww5.ipynb', 'ww6_class.ipynb']\n"
     ]
    }
   ],
   "source": [
    "print(\"contents in skill_lync :\",os.listdir()) # list of contents of skill_lync"
   ]
  },
  {
   "cell_type": "code",
   "execution_count": 11,
   "id": "4357f6d9",
   "metadata": {},
   "outputs": [],
   "source": [
    "os.rmdir(\"mydir\") # remove mydir directory"
   ]
  },
  {
   "cell_type": "code",
   "execution_count": 13,
   "id": "16a4759d",
   "metadata": {},
   "outputs": [
    {
     "name": "stdout",
     "output_type": "stream",
     "text": [
      "contents in skill_lync : ['.ipynb_checkpoints', 'messages.txt', 'mydirctory', 'mydirctory_1', 'my_new_file.txt', 'student_data', 'student_data2', 'text.txt', 'ww1.ipynb', 'ww2.ipynb', 'ww3.ipynb', 'ww4.ipynb', 'ww5.ipynb', 'ww6_class.ipynb']\n"
     ]
    }
   ],
   "source": [
    "print(\"contents in skill_lync :\",os.listdir()) # after removing list of skill_lync"
   ]
  },
  {
   "cell_type": "markdown",
   "id": "9b513adc",
   "metadata": {},
   "source": [
    "# Week 6 Session 3 File Input-Output, Modules"
   ]
  },
  {
   "cell_type": "code",
   "execution_count": 2,
   "id": "fd338035",
   "metadata": {},
   "outputs": [
    {
     "name": "stdout",
     "output_type": "stream",
     "text": [
      "enter the source file name  : messages.txt\n",
      "enter the destination file name : destination.txt\n"
     ]
    }
   ],
   "source": [
    "#file copy application\n",
    "source_file=input(\"enter the source file name  : \")\n",
    "destination_file=input(\"enter the destination file name : \")\n",
    "f1=open(source_file,\"r\") # open source file already having data\n",
    "f2=open(destination_file,\"w\") # created new file to be copy the content from source file\n",
    "while True:  \n",
    "    data=f1.read(1) # reads source file line by line\n",
    "    if data == \"\":  # if data is empty it breaks the loop after reading source file line by line\n",
    "        break\n",
    "    f2.write(data) # copying data from source file to destination file with writing\n",
    "f1.close()\n",
    "f2.close()\n",
    "# new file created with the content copy of old file"
   ]
  },
  {
   "cell_type": "code",
   "execution_count": 4,
   "id": "e0c33467",
   "metadata": {},
   "outputs": [
    {
     "name": "stdout",
     "output_type": "stream",
     "text": [
      "enter the source file name  : messages.txt\n",
      "enter the destination file name : destination.txt\n"
     ]
    }
   ],
   "source": [
    "#file append application\n",
    "source_file=input(\"enter the source file name  : \")\n",
    "destination_file=input(\"enter the destination file name : \")\n",
    "f1=open(source_file,\"r\") # open source file already having data\n",
    "f2=open(destination_file,\"a\") # data append  file to be copy the content from source file\n",
    "while True:  \n",
    "    data=f1.read(1) # reads source file line by line\n",
    "    if data == \"\":  # if data is empty it breaks the loop after reading source file line by line\n",
    "        break\n",
    "    f2.write(data) # copying data from source file to destination file with writing\n",
    "f1.close()\n",
    "f2.close()\n",
    "# both are already created files but source file data copied to destination file after the end of already source data."
   ]
  },
  {
   "cell_type": "markdown",
   "id": "a7f01d46",
   "metadata": {},
   "source": [
    "# module and packages"
   ]
  },
  {
   "cell_type": "code",
   "execution_count": 10,
   "id": "0882344b",
   "metadata": {},
   "outputs": [
    {
     "name": "stdout",
     "output_type": "stream",
     "text": [
      "enter the first integer : 10\n",
      "enter the second integer : 5\n",
      "x+y=   15\n",
      "x-y=   5\n",
      "x*y=   50\n",
      "x/y=   2.0\n"
     ]
    }
   ],
   "source": [
    "# create a mymath text file  and rename it mymath.py (note with extension .py is mandetory)\n",
    "import mymath  # import created module\n",
    "x=int(input(\"enter the first integer : \"))\n",
    "y=int(input(\"enter the second integer : \"))\n",
    "\n",
    "print(\"x+y=  \",mymath.add(x,y))\n",
    "print(\"x-y=  \",mymath.sub(x,y))\n",
    "print(\"x*y=  \",mymath.mult(x,y))\n",
    "print(\"x/y=  \",mymath.div(x,y))"
   ]
  },
  {
   "cell_type": "code",
   "execution_count": 11,
   "id": "a8fe6c25",
   "metadata": {},
   "outputs": [
    {
     "name": "stdout",
     "output_type": "stream",
     "text": [
      "name of the module :  mymath\n",
      "docstring of module :  this module implement basic operations of mathematical\n",
      "acation of module file :  C:\\Users\\SUBBU\\skill_lync\\mymath.py\n"
     ]
    }
   ],
   "source": [
    "# Accessing properties of module \n",
    "print(\"name of the module : \",mymath.__name__)\n",
    "print(\"docstring of module : \",mymath.__doc__)\n",
    "print(\"acation of module file : \",mymath.__file__)"
   ]
  },
  {
   "cell_type": "code",
   "execution_count": 3,
   "id": "52de8530",
   "metadata": {},
   "outputs": [
    {
     "name": "stdout",
     "output_type": "stream",
     "text": [
      "sys.verion  :   3.10.9 | packaged by Anaconda, Inc. | (main, Mar  1 2023, 18:18:15) [MSC v.1916 64 bit (AMD64)]\n",
      "sys.maxsize :   9223372036854775807\n",
      "sys.path    :   ['C:\\\\Users\\\\SUBBU\\\\skill_lync', 'C:\\\\Users\\\\SUBBU\\\\anaconda3\\\\python310.zip', 'C:\\\\Users\\\\SUBBU\\\\anaconda3\\\\DLLs', 'C:\\\\Users\\\\SUBBU\\\\anaconda3\\\\lib', 'C:\\\\Users\\\\SUBBU\\\\anaconda3', '', 'C:\\\\Users\\\\SUBBU\\\\anaconda3\\\\lib\\\\site-packages', 'C:\\\\Users\\\\SUBBU\\\\anaconda3\\\\lib\\\\site-packages\\\\win32', 'C:\\\\Users\\\\SUBBU\\\\anaconda3\\\\lib\\\\site-packages\\\\win32\\\\lib', 'C:\\\\Users\\\\SUBBU\\\\anaconda3\\\\lib\\\\site-packages\\\\Pythonwin']\n",
      "sys.platform:   win32\n"
     ]
    }
   ],
   "source": [
    "# Accessing properties of SYS\n",
    "import sys\n",
    "print(\"sys.verion  :  \",sys.version)\n",
    "print(\"sys.maxsize :  \",sys.maxsize)\n",
    "print(\"sys.path    :  \",sys.path)\n",
    "print(\"sys.platform:  \",sys.platform)"
   ]
  },
  {
   "cell_type": "markdown",
   "id": "d4efd7a7",
   "metadata": {},
   "source": [
    "# Packages"
   ]
  },
  {
   "cell_type": "code",
   "execution_count": null,
   "id": "fbe2c40c",
   "metadata": {},
   "outputs": [],
   "source": [
    "# NOTE \n",
    "1. Modules are files which having group of programs with .py extention\n",
    "2. Package are directories which are group of modules.\n"
   ]
  },
  {
   "cell_type": "code",
   "execution_count": null,
   "id": "f9fa337d",
   "metadata": {},
   "outputs": [],
   "source": [
    "# first create a new directory (mypack) in required location\n",
    "# create a module inside the package (mymath)\n",
    "#mypack-->mymath && mystr\n",
    "# creat __init__.py file\n",
    "\n"
   ]
  },
  {
   "cell_type": "code",
   "execution_count": 1,
   "id": "19614e1d",
   "metadata": {},
   "outputs": [
    {
     "name": "stdout",
     "output_type": "stream",
     "text": [
      "\n",
      " ::: welcome to mystr module :::\n",
      "\n",
      " :::welcome to the mymathmadule :::\n",
      "enter the str1 : SWA0Y\n",
      "enter the str2 : 0AS2A\n",
      "entter the len of str1  5\n",
      "entter the len of str2  5\n",
      "result of str comparition is  :  False\n",
      "result of string concatenation :  SWA0Y0AS2A\n",
      "\n",
      " :::welcome to the mymathmadule :::\n",
      "enter the first integer : 6\n",
      "enter the second integer : 8\n",
      "x+y=   14\n",
      "x-y=   -2\n",
      "x*y=   48\n",
      "x/y=   0.75\n"
     ]
    }
   ],
   "source": [
    "import mypack.mystr as ms    \n",
    "from mypack.mymath import *     #  from mypack.mymath import add,sub\n",
    "\n",
    "str1=input(\"enter the str1 : \")\n",
    "str2=input(\"enter the str2 : \")\n",
    "\n",
    "print(\"entter the len of str1 \",ms.str_len(str1))\n",
    "print(\"entter the len of str2 \",ms.str_len(str2))\n",
    "\n",
    "print(\"result of str comparition is  : \",ms.str_cmp(str1,str2))\n",
    "print(\"result of string concatenation : \",ms.str_cat(str1,str2))\n",
    "\n",
    "import mymath  # import created module\n",
    "x=int(input(\"enter the first integer : \"))\n",
    "y=int(input(\"enter the second integer : \"))\n",
    "\n",
    "print(\"x+y=  \",mymath.add(x,y))\n",
    "print(\"x-y=  \",mymath.sub(x,y))\n",
    "print(\"x*y=  \",mymath.mult(x,y))\n",
    "print(\"x/y=  \",mymath.div(x,y))\n",
    "      \n",
    "      "
   ]
  },
  {
   "cell_type": "code",
   "execution_count": 5,
   "id": "e3165140",
   "metadata": {},
   "outputs": [
    {
     "name": "stdout",
     "output_type": "stream",
     "text": [
      "Enter the file name : mymath.py\n",
      "The size of the file is :  (224, 'bytes')\n"
     ]
    }
   ],
   "source": [
    "import mypack.myfile as mf    \n",
    "filename=input(\"Enter the file name : \")\n",
    "print(\"The size of the file is : \",mf.file_size(filename))\n"
   ]
  },
  {
   "cell_type": "code",
   "execution_count": null,
   "id": "71b0b61d",
   "metadata": {},
   "outputs": [],
   "source": []
  }
 ],
 "metadata": {
  "kernelspec": {
   "display_name": "Python 3 (ipykernel)",
   "language": "python",
   "name": "python3"
  },
  "language_info": {
   "codemirror_mode": {
    "name": "ipython",
    "version": 3
   },
   "file_extension": ".py",
   "mimetype": "text/x-python",
   "name": "python",
   "nbconvert_exporter": "python",
   "pygments_lexer": "ipython3",
   "version": "3.10.9"
  }
 },
 "nbformat": 4,
 "nbformat_minor": 5
}
