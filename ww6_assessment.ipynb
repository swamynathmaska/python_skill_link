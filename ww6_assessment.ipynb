{
 "cells": [
  {
   "cell_type": "markdown",
   "id": "8ced8723",
   "metadata": {},
   "source": [
    "1. Write a program that read contents of the file ‘messages’ one character at a time and prints each character that is read."
   ]
  },
  {
   "cell_type": "code",
   "execution_count": 31,
   "id": "48a1bab7",
   "metadata": {},
   "outputs": [
    {
     "name": "stdout",
     "output_type": "stream",
     "text": [
      "I want all of you, forever, you and me, every day - The Notebook\n",
      " You make me want to be a better man - Melvin Udall\n",
      " The love we give away is the only love we keep - Elbert Hubbard\n",
      " You are so beautiful it hurts - Pearl Harbor\n",
      " We are shaped and fashioned by what we love - Johann Wolfgang von Goethe\n",
      " "
     ]
    }
   ],
   "source": [
    "with open(\"message.txt\",\"r\") as f1:\n",
    "    line=f1.readlines()\n",
    "    for l in line:\n",
    "        print(l,end=\" \")\n",
    "    "
   ]
  },
  {
   "cell_type": "markdown",
   "id": "398844e0",
   "metadata": {},
   "source": [
    "2. Write a Python program that searches for a file, obtains its size and reports the size in bytes/ KB/ MB as appropriate"
   ]
  },
  {
   "cell_type": "code",
   "execution_count": 33,
   "id": "ddcdb52a",
   "metadata": {},
   "outputs": [
    {
     "name": "stdout",
     "output_type": "stream",
     "text": [
      "Enter the file name : message.txt\n",
      "The size of the file is :  (298, 'bytes')\n"
     ]
    }
   ],
   "source": [
    "import filesize as mf    \n",
    "filename=input(\"Enter the file name : \")\n",
    "print(\"The size of the file is : \",mf.file_size(filename))"
   ]
  },
  {
   "cell_type": "markdown",
   "id": "e5cf4a80",
   "metadata": {},
   "source": [
    "3. Write a program to accept a filename from the user, create a file with that name(if it does not exist) and write some content into the file"
   ]
  },
  {
   "cell_type": "code",
   "execution_count": 34,
   "id": "59fce5ef",
   "metadata": {},
   "outputs": [],
   "source": [
    "with open(\"message1.txt\",\"w\") as f1:\n",
    "    f1.write(\" Maska Swamy \\n\")\n",
    "    f1.write(\"  B.techmechanical engineering\\n\")\n",
    "    f1.write(\"  ganapathi engineering college\\n\")\n",
    "    f1.write(\"  warangalhanamkonda\\n\")"
   ]
  },
  {
   "cell_type": "markdown",
   "id": "90f8af53",
   "metadata": {},
   "source": [
    "4. Write a program to read a file and display its contents along with line numbers before each line"
   ]
  },
  {
   "cell_type": "code",
   "execution_count": 35,
   "id": "5f400222",
   "metadata": {},
   "outputs": [
    {
     "name": "stdout",
     "output_type": "stream",
     "text": [
      "1.  I want all of you, forever, you and me, every day - The Notebook\n",
      " 2.  You make me want to be a better man - Melvin Udall\n",
      " 3.  The love we give away is the only love we keep - Elbert Hubbard\n",
      " 4.  You are so beautiful it hurts - Pearl Harbor\n",
      " 5.  We are shaped and fashioned by what we love - Johann Wolfgang von Goethe\n",
      " "
     ]
    }
   ],
   "source": [
    "f1=open(\"message.txt\",\"r\")\n",
    "l1=f1.readlines()\n",
    "a=0\n",
    "for l in l1:\n",
    "    a+=1\n",
    "    print(\"{}. \".format(a),l,end=\" \")"
   ]
  },
  {
   "cell_type": "markdown",
   "id": "eb3b4630",
   "metadata": {},
   "source": [
    "5. Write a program to copy the contents of one file into another"
   ]
  },
  {
   "cell_type": "code",
   "execution_count": 36,
   "id": "d5820749",
   "metadata": {},
   "outputs": [
    {
     "name": "stdout",
     "output_type": "stream",
     "text": [
      "enter the source file name  : message.txt\n",
      "enter the destination file name : desti.txt\n"
     ]
    }
   ],
   "source": [
    "source_file=input(\"enter the source file name  : \")\n",
    "destination_file=input(\"enter the destination file name : \")\n",
    "f1=open(source_file,\"r\")\n",
    "f2=open(destination_file,\"w\") \n",
    "while True:  \n",
    "    data=f1.read(1) \n",
    "    if data == \"\":  \n",
    "        break\n",
    "    f2.write(data) \n",
    "f1.close()\n",
    "f2.close()"
   ]
  },
  {
   "cell_type": "markdown",
   "id": "674bb049",
   "metadata": {},
   "source": [
    "6. Write a program to append the contents of one file into another"
   ]
  },
  {
   "cell_type": "code",
   "execution_count": 38,
   "id": "4deb2d66",
   "metadata": {},
   "outputs": [
    {
     "name": "stdout",
     "output_type": "stream",
     "text": [
      "enter the source file name  : message.txt\n",
      "enter the destination file name : desti.txt\n"
     ]
    }
   ],
   "source": [
    "source_file=input(\"enter the source file name  : \")\n",
    "destination_file=input(\"enter the destination file name : \")\n",
    "f1=open(source_file,\"r\")\n",
    "f2=open(destination_file,\"a\")\n",
    "while True:  \n",
    "    data=f1.read(1) \n",
    "    if data == \"\": \n",
    "        break\n",
    "    f2.write(data) \n",
    "f1.close()\n",
    "f2.close()"
   ]
  },
  {
   "cell_type": "markdown",
   "id": "065fa355",
   "metadata": {},
   "source": [
    "7. Suppose a file contains student records, with each record containing name and age of student. Write a program to read these records and display them in sorted order by name"
   ]
  },
  {
   "cell_type": "code",
   "execution_count": 174,
   "id": "bb23e941",
   "metadata": {},
   "outputs": [
    {
     "name": "stdout",
     "output_type": "stream",
     "text": [
      "Name: ramana, Age: 22\n",
      "Name: shirisha, Age: 12\n",
      "Name: shiva, Age: 24\n",
      "Name: swamy, Age: 26\n",
      "Name: varsha, Age: 13\n"
     ]
    }
   ],
   "source": [
    "with open(\"data.txt\", \"r\") as file:    \n",
    "#     lines=file.readlines()\n",
    "#     for line in lines:\n",
    "#         records=[line.strip().split(\",\")]\n",
    "    \n",
    "    \n",
    "    records = [line.strip().split(\",\") for line in file.readlines()]\n",
    "for record in sorted(sorted_records):\n",
    "    print(f\"Name: {record[0]}, Age: {record[1]}\")"
   ]
  },
  {
   "cell_type": "markdown",
   "id": "ab876e41",
   "metadata": {},
   "source": [
    "8. Suppose there are three modules m1.py, m2.py and m3.py containing functions f1(), f2() and f3() respectively. Write a program to use these functions"
   ]
  },
  {
   "cell_type": "code",
   "execution_count": 171,
   "id": "fc3b99eb",
   "metadata": {},
   "outputs": [
    {
     "name": "stdout",
     "output_type": "stream",
     "text": [
      "enter the value of a : 3\n",
      "enter the value of b : 4\n",
      " choose option + for addition, * for multiplication, / for division : /\n",
      "3.0 / 4.0 = 0.75\n"
     ]
    }
   ],
   "source": [
    "import module_3.m1 as ms\n",
    "import module_3.m2 as mt\n",
    "import module_3.m3 as mu\n",
    "a=float(input(\"enter the value of a : \"))\n",
    "b=float(input(\"enter the value of b : \"))\n",
    "option=input(\" choose option + for addition, * for multiplication, / for division : \")\n",
    "if option==\"+\":\n",
    "    print(a,\"+\",b,\"=\", ms.f1(a,b))\n",
    "elif option==\"*\":\n",
    "    print(a,\"*\",b,\"=\", mt.f2(a,b))\n",
    "elif option==\"/\":\n",
    "    print(a,\"/\",b,\"=\", mu.f3(a,b))\n",
    "else:\n",
    "    print(\"plese choose option shown above :\")"
   ]
  },
  {
   "cell_type": "markdown",
   "id": "23f86589",
   "metadata": {},
   "source": [
    "9. Write a program containing functions fun1(), fun2() and fun3() and some statements. Add suitable code to the program such that you can use it as a module or a normal program"
   ]
  },
  {
   "cell_type": "code",
   "execution_count": 181,
   "id": "c12cbccd",
   "metadata": {},
   "outputs": [
    {
     "name": "stdout",
     "output_type": "stream",
     "text": [
      "Enter Radius Of Circle :10\n",
      "1:for area   2:for cercumference   3:for diameter\n",
      "choose your option :3\n",
      "diameter is : 20.0\n"
     ]
    }
   ],
   "source": [
    "import pgm as a\n",
    "radius=float(input(\"Enter Radius Of Circle :\"))\n",
    "print(\"1:for area   2:for cercumference   3:for diameter\")\n",
    "x=int(input(\"choose your option :\"))\n",
    "if x==1:\n",
    "    print(\"area is :\",a.fun1(radius))\n",
    "if x==2:\n",
    "    print(\"cercumference is :\",a.fun2(radius))\n",
    "if x==3:\n",
    "    print(\"diameter is :\",a.fun3(radius))\n",
    "    "
   ]
  },
  {
   "cell_type": "markdown",
   "id": "9131723d",
   "metadata": {},
   "source": [
    "10. Suppose a module called mod.py contains functions f1(), f2() and f3(). Write three forms of import statements to use these functions in your program"
   ]
  },
  {
   "cell_type": "code",
   "execution_count": 162,
   "id": "2ddf3334",
   "metadata": {},
   "outputs": [
    {
     "name": "stdout",
     "output_type": "stream",
     "text": [
      "enter the value of a : 2\n",
      "enter the value of b : 3\n",
      " choose option + for addition, * for multiplication, / for division : +\n",
      "2.0 + 3.0 = 5.0\n"
     ]
    }
   ],
   "source": [
    "import mod\n",
    "import mod as ms\n",
    "from mod import f3  # from mod import *\n",
    "\n",
    "a=float(input(\"enter the value of a : \"))\n",
    "b=float(input(\"enter the value of b : \"))\n",
    "option=input(\" choose option + for addition, * for multiplication, / for division : \")\n",
    "if option==\"+\":\n",
    "    print(a,\"+\",b,\"=\", mod.f1(a,b))\n",
    "elif option==\"*\":\n",
    "    print(a,\"*\",b,\"=\", ms.f2(a,b))\n",
    "elif option==\"/\":\n",
    "    print(a,\"/\",b,\"=\", f3(a,b))\n",
    "else:\n",
    "    print(\"plese choose option shown above :\")"
   ]
  },
  {
   "cell_type": "code",
   "execution_count": null,
   "id": "f4309ea6",
   "metadata": {},
   "outputs": [],
   "source": []
  },
  {
   "cell_type": "code",
   "execution_count": null,
   "id": "c850c294",
   "metadata": {},
   "outputs": [],
   "source": []
  },
  {
   "cell_type": "code",
   "execution_count": null,
   "id": "c8b3730b",
   "metadata": {},
   "outputs": [],
   "source": []
  }
 ],
 "metadata": {
  "kernelspec": {
   "display_name": "Python 3 (ipykernel)",
   "language": "python",
   "name": "python3"
  },
  "language_info": {
   "codemirror_mode": {
    "name": "ipython",
    "version": 3
   },
   "file_extension": ".py",
   "mimetype": "text/x-python",
   "name": "python",
   "nbconvert_exporter": "python",
   "pygments_lexer": "ipython3",
   "version": "3.10.9"
  }
 },
 "nbformat": 4,
 "nbformat_minor": 5
}
