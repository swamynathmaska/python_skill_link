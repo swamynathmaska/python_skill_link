{
 "cells": [
  {
   "cell_type": "markdown",
   "id": "3d9e7f0f",
   "metadata": {},
   "source": [
    "# 1. Iterators"
   ]
  },
  {
   "cell_type": "code",
   "execution_count": 18,
   "id": "ce72241c",
   "metadata": {},
   "outputs": [],
   "source": [
    "# Program to implement an iterator called Evens that returns the Even number upto limit\n",
    "\n",
    "class Even:\n",
    "    def __init__(self,l):\n",
    "        self._limit=l\n",
    "        self._val=0\n",
    "    \n",
    "    # the __iter__ method makes the class iterable\n",
    "    \n",
    "    def __iter__(self):\n",
    "        return self\n",
    "    \n",
    "    # The __next__method makes this class as iterator\n",
    "    \n",
    "    def __next__(self):\n",
    "        if self._val > self._limit:\n",
    "            raise StopIteration\n",
    "        else:\n",
    "            return_val=self._val\n",
    "            self._val+=2\n",
    "            return return_val\n",
    "        "
   ]
  },
  {
   "cell_type": "code",
   "execution_count": 19,
   "id": "de5a3f55",
   "metadata": {},
   "outputs": [
    {
     "name": "stdout",
     "output_type": "stream",
     "text": [
      "start iterator\n",
      "Evens from 0 to 20\n",
      "Enter the limit (n) :20\n",
      "i= 0\n",
      "i= 2\n",
      "i= 4\n",
      "i= 6\n",
      "i= 8\n",
      "i= 10\n",
      "i= 12\n",
      "i= 14\n",
      "i= 16\n",
      "i= 18\n",
      "i= 20\n",
      "End of Iterator\n"
     ]
    }
   ],
   "source": [
    "print(\"start iterator\")\n",
    "print(\"Evens from 0 to 20\")\n",
    "\n",
    "n=int(input(\"Enter the limit (n) :\"))\n",
    "for i in Even(n):\n",
    "    print(\"i=\",i)\n",
    "print(\"End of Iterator\")"
   ]
  },
  {
   "cell_type": "code",
   "execution_count": 20,
   "id": "d07b65e8",
   "metadata": {},
   "outputs": [],
   "source": [
    "# Program to accept a value of n, implement an iterator which returns factorials upto limit\n",
    "\n",
    "class Fact:\n",
    "    def __init__(self,l):\n",
    "        self._limit=l\n",
    "        self._val=0\n",
    "    \n",
    "    # the __iter__ method makes the class iterable\n",
    "    \n",
    "    def __iter__(self):\n",
    "        return self\n",
    "    #find the factorial of num\n",
    "    def fact(self,num):\n",
    "        prod=1\n",
    "        for i in range(1,num+1):\n",
    "            prod *=i\n",
    "        return prod\n",
    "    \n",
    "    # The __next__method makes this class as iterator\n",
    "    \n",
    "    def __next__(self):\n",
    "        if self._val > self._limit:\n",
    "            raise StopIteration\n",
    "        else:\n",
    "            return_val=self.fact(self._val)\n",
    "            self._val+=1\n",
    "            return return_val"
   ]
  },
  {
   "cell_type": "code",
   "execution_count": 21,
   "id": "3d164b05",
   "metadata": {},
   "outputs": [
    {
     "name": "stdout",
     "output_type": "stream",
     "text": [
      "start iterator\n",
      "Factorials from 0 to n(n should be grater than 1)\n",
      "Enter the limit (n) :20\n",
      "Factorial= 1\n",
      "Factorial= 1\n",
      "Factorial= 2\n",
      "Factorial= 6\n",
      "Factorial= 24\n",
      "Factorial= 120\n",
      "Factorial= 720\n",
      "Factorial= 5040\n",
      "Factorial= 40320\n",
      "Factorial= 362880\n",
      "Factorial= 3628800\n",
      "Factorial= 39916800\n",
      "Factorial= 479001600\n",
      "Factorial= 6227020800\n",
      "Factorial= 87178291200\n",
      "Factorial= 1307674368000\n",
      "Factorial= 20922789888000\n",
      "Factorial= 355687428096000\n",
      "Factorial= 6402373705728000\n",
      "Factorial= 121645100408832000\n",
      "Factorial= 2432902008176640000\n",
      "End of Iterator\n"
     ]
    }
   ],
   "source": [
    "print(\"start iterator\")\n",
    "print(\"Factorials from 0 to n(n should be grater than 1)\")\n",
    "\n",
    "n=int(input(\"Enter the limit (n) :\"))\n",
    "for i in Fact(n):\n",
    "    print(\"Factorial=\",i)\n",
    "print(\"End of Iterator\")"
   ]
  },
  {
   "cell_type": "markdown",
   "id": "a7867f6e",
   "metadata": {},
   "source": [
    "# 2.  Week 8 Session 2 Exception handling, Iterators and generators"
   ]
  },
  {
   "cell_type": "code",
   "execution_count": 22,
   "id": "1b4b25f4",
   "metadata": {},
   "outputs": [
    {
     "name": "stdout",
     "output_type": "stream",
     "text": [
      "Zero Division Error in runcalc\n"
     ]
    }
   ],
   "source": [
    "#  1. try-except block\n",
    "\n",
    "def runcalc(n):\n",
    "    n/0\n",
    "\n",
    "try:\n",
    "    runcalc(6)\n",
    "except ZeroDivisionError:\n",
    "    print(\"Zero Division Error in runcalc\")"
   ]
  },
  {
   "cell_type": "code",
   "execution_count": 23,
   "id": "6510e240",
   "metadata": {},
   "outputs": [
    {
     "name": "stdout",
     "output_type": "stream",
     "text": [
      "division by zero Error has occured\n"
     ]
    }
   ],
   "source": [
    "# multiple Handlers\n",
    "\n",
    "def runcalc(n):\n",
    "    n/0\n",
    "\n",
    "try:\n",
    "    runcalc(6)\n",
    "except ZeroDivisionError as z:\n",
    "    print(z,\"Error has occured\")\n",
    "except indexError as i:\n",
    "    print(i,\"Error has occured\")\n",
    "except FileNotFound as f:\n",
    "    print(f,\"Error has occured\")\n",
    "except Exception:\n",
    "    print(\"An unknown exception has occured\")"
   ]
  },
  {
   "cell_type": "markdown",
   "id": "0b813403",
   "metadata": {},
   "source": [
    "# 2a. Throwing exception"
   ]
  },
  {
   "cell_type": "code",
   "execution_count": 24,
   "id": "58eee80d",
   "metadata": {},
   "outputs": [],
   "source": [
    "def my_function(x,y):\n",
    "    print(\"my_function in\")\n",
    "    result=x/y\n",
    "    print(\"my_function out\")\n",
    "    return result\n",
    "          "
   ]
  },
  {
   "cell_type": "code",
   "execution_count": 25,
   "id": "b10e1ee1",
   "metadata": {},
   "outputs": [
    {
     "name": "stdout",
     "output_type": "stream",
     "text": [
      "Starting....\n",
      "Before my_function\n",
      "my_function in\n",
      "division by zero error raised\n",
      "Done....\n"
     ]
    }
   ],
   "source": [
    "print(\"Starting....\")\n",
    "try:\n",
    "    print(\"Before my_function\")\n",
    "    res=my_function(6,0)\n",
    "    # res=my_function(6,2)--------------------->gives resultant value\n",
    "    print(\"After my_function\")\n",
    "    print(\"result value is :\",res)\n",
    "    \n",
    "except ZeroDivisionError as exp:\n",
    "    print(exp,\"error raised\")\n",
    "    print(\"Done....\")"
   ]
  },
  {
   "cell_type": "markdown",
   "id": "61c9eefe",
   "metadata": {},
   "source": [
    "# 2b. catching any exception"
   ]
  },
  {
   "cell_type": "code",
   "execution_count": 26,
   "id": "bb5e3fb6",
   "metadata": {},
   "outputs": [
    {
     "name": "stdout",
     "output_type": "stream",
     "text": [
      "my_function in\n",
      "something went wrong\n"
     ]
    }
   ],
   "source": [
    "try:\n",
    "    my_function(6,0)\n",
    "except IndexError as e:\n",
    "    print(e)\n",
    "except:\n",
    "    print(\"something went wrong\")"
   ]
  },
  {
   "cell_type": "markdown",
   "id": "1b9029e0",
   "metadata": {},
   "source": [
    "# 2c. The Else Clause"
   ]
  },
  {
   "cell_type": "code",
   "execution_count": 27,
   "id": "ffa14e9d",
   "metadata": {},
   "outputs": [
    {
     "name": "stdout",
     "output_type": "stream",
     "text": [
      "my_function in\n",
      "my_function out\n",
      "Result is  : 3.0\n",
      "Everything Working OK\n"
     ]
    }
   ],
   "source": [
    "try:\n",
    "    print(\"Result is  :\",my_function(6,2))\n",
    "\n",
    "except ZeroDivisionError as e:\n",
    "    print(e)\n",
    "    \n",
    "else:\n",
    "    print(\"Everything Working OK\")"
   ]
  },
  {
   "cell_type": "markdown",
   "id": "edc879a3",
   "metadata": {},
   "source": [
    "# 2d. the finally clause"
   ]
  },
  {
   "cell_type": "code",
   "execution_count": 28,
   "id": "739a6e5c",
   "metadata": {},
   "outputs": [
    {
     "name": "stdout",
     "output_type": "stream",
     "text": [
      "my_function in\n",
      "division by zero\n",
      "Always Runs\n"
     ]
    }
   ],
   "source": [
    "try:\n",
    "    #print(\"Result is  :\",my_function(6,2))\n",
    "    print(\"Result is  :\",my_function(6,0))\n",
    "\n",
    "except ZeroDivisionError as e:\n",
    "    print(e)\n",
    "    \n",
    "else:\n",
    "    print(\"Everything Working OK\")\n",
    "\n",
    "finally:\n",
    "    print(\"Always Runs\")"
   ]
  },
  {
   "cell_type": "markdown",
   "id": "6cbb436d",
   "metadata": {},
   "source": [
    "# 2e. Raising an Exception"
   ]
  },
  {
   "cell_type": "code",
   "execution_count": 29,
   "id": "a417eb69",
   "metadata": {},
   "outputs": [
    {
     "name": "stdout",
     "output_type": "stream",
     "text": [
      "my_function in\n",
      "my_function out\n",
      "3.0\n",
      "Everything worked OK\n"
     ]
    }
   ],
   "source": [
    "x=6\n",
    "y=2  # 0\n",
    "\n",
    "try:\n",
    "    if (y==0):\n",
    "        raise ValueError(\"Wrong value for y\")\n",
    "    print(my_function(x,y))\n",
    "\n",
    "except ValueError as e:\n",
    "    print(e)\n",
    "    \n",
    "else:\n",
    "    print(\"Everything worked OK\")"
   ]
  },
  {
   "cell_type": "markdown",
   "id": "06d3bc2c",
   "metadata": {},
   "source": [
    "# 3. Assertions"
   ]
  },
  {
   "cell_type": "code",
   "execution_count": 35,
   "id": "69b395b3",
   "metadata": {},
   "outputs": [
    {
     "ename": "AssertionError",
     "evalue": "Denominator should not be Zero",
     "output_type": "error",
     "traceback": [
      "\u001b[1;31m---------------------------------------------------------------------------\u001b[0m",
      "\u001b[1;31mAssertionError\u001b[0m                            Traceback (most recent call last)",
      "Input \u001b[1;32mIn [35]\u001b[0m, in \u001b[0;36m<cell line: 4>\u001b[1;34m()\u001b[0m\n\u001b[0;32m      1\u001b[0m x\u001b[38;5;241m=\u001b[39m\u001b[38;5;241m6\u001b[39m\n\u001b[0;32m      2\u001b[0m y\u001b[38;5;241m=\u001b[39m\u001b[38;5;241m2\u001b[39m  \u001b[38;5;66;03m#0\u001b[39;00m\n\u001b[1;32m----> 4\u001b[0m \u001b[38;5;28;01massert\u001b[39;00m y\u001b[38;5;241m==\u001b[39m\u001b[38;5;241m0\u001b[39m, \u001b[38;5;124m'\u001b[39m\u001b[38;5;124mDenominator should not be Zero\u001b[39m\u001b[38;5;124m'\u001b[39m\n\u001b[0;32m      5\u001b[0m \u001b[38;5;66;03m#assert y!=0, 'Denominator should not be Zero'\u001b[39;00m\n\u001b[0;32m      7\u001b[0m \u001b[38;5;28mprint\u001b[39m(\u001b[38;5;124m\"\u001b[39m\u001b[38;5;124mAfter assert statement\u001b[39m\u001b[38;5;124m\"\u001b[39m)\n",
      "\u001b[1;31mAssertionError\u001b[0m: Denominator should not be Zero"
     ]
    }
   ],
   "source": [
    "x=6\n",
    "y=2  #0\n",
    "\n",
    "assert y==0, 'Denominator should not be Zero'\n",
    "#assert y!=0, 'Denominator should not be Zero'\n",
    "\n",
    "print(\"After assert statement\")\n",
    "\n",
    "my_function(x,y)"
   ]
  },
  {
   "cell_type": "markdown",
   "id": "20a2ee61",
   "metadata": {},
   "source": [
    "# \n",
    "1. program to accept n positive integers as input and print the suares of numbers from 1 to N, if a negative number is entered, then raise value of error exception and display a relavant error message and exit."
   ]
  },
  {
   "cell_type": "code",
   "execution_count": 40,
   "id": "5beb735f",
   "metadata": {},
   "outputs": [],
   "source": [
    "class Squares(object):\n",
    "    def __init__(self,l):\n",
    "        self._limit=l\n",
    "        self._val=0\n",
    "        \n",
    "    def __iter__(self):\n",
    "        return self\n",
    "    \n",
    "    def __next__(self):\n",
    "        if self._val > self._limit:\n",
    "            raise StopIteration\n",
    "            \n",
    "        else:\n",
    "            return_val = self._val * self._val\n",
    "            self._val+=1\n",
    "            return return_val"
   ]
  },
  {
   "cell_type": "code",
   "execution_count": 47,
   "id": "71dda2fe",
   "metadata": {},
   "outputs": [
    {
     "name": "stdout",
     "output_type": "stream",
     "text": [
      "start.......\n",
      "Enter the value of n : 8\n",
      "0,1,4,9,16,25,36,49,64,\n",
      " End\n"
     ]
    }
   ],
   "source": [
    "print(\"start.......\")\n",
    "n=int(input(\"Enter the value of n : \"))\n",
    "\n",
    "try:\n",
    "    if n<0:   # if n value +ve it gives results and if it is negative it gives ValueError\n",
    "        raise valueError()\n",
    "\n",
    "except Valueerror:\n",
    "    print(\"enter a positive value for n :\")\n",
    "    \n",
    "    \n",
    "for i in Squares(n):\n",
    "    print(i, end=\",\")\n",
    "    \n",
    "print(\"\\n End\")"
   ]
  },
  {
   "cell_type": "code",
   "execution_count": null,
   "id": "714565c3",
   "metadata": {},
   "outputs": [],
   "source": []
  }
 ],
 "metadata": {
  "kernelspec": {
   "display_name": "Python 3 (ipykernel)",
   "language": "python",
   "name": "python3"
  },
  "language_info": {
   "codemirror_mode": {
    "name": "ipython",
    "version": 3
   },
   "file_extension": ".py",
   "mimetype": "text/x-python",
   "name": "python",
   "nbconvert_exporter": "python",
   "pygments_lexer": "ipython3",
   "version": "3.9.12"
  }
 },
 "nbformat": 4,
 "nbformat_minor": 5
}
