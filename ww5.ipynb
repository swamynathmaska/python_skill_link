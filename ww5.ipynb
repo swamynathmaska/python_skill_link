{
 "cells": [
  {
   "cell_type": "markdown",
   "metadata": {
    "id": "kQHFxN7kRzyA"
   },
   "source": [
    "1. Write a function that takes the lengths of the two shorter sides of a right triangle as its parameters. Return the hypotenuse of the triangle, computed using Pythagorean theorem, as the function’s result."
   ]
  },
  {
   "cell_type": "code",
   "execution_count": null,
   "metadata": {
    "colab": {
     "base_uri": "https://localhost:8080/"
    },
    "executionInfo": {
     "elapsed": 20733,
     "status": "ok",
     "timestamp": 1680624775915,
     "user": {
      "displayName": "swamy maska",
      "userId": "09495458393053366071"
     },
     "user_tz": -330
    },
    "id": "yhfzyGt_U4EC",
    "outputId": "81ff5821-f203-4f4e-c29e-6350cf2e0b06"
   },
   "outputs": [
    {
     "name": "stdout",
     "output_type": "stream",
     "text": [
      "Enter the value of side-a : 4\n",
      "Enter the value of side-b : 3\n",
      "the hypotenuse of triangle is : \n"
     ]
    },
    {
     "data": {
      "text/plain": [
       "5.0"
      ]
     },
     "execution_count": 3,
     "metadata": {},
     "output_type": "execute_result"
    }
   ],
   "source": [
    "import math\n",
    "def triangle(a,b):\n",
    "  c=math.sqrt(pow(a,2)+pow(b,2))\n",
    "  return c\n",
    "a=float(input(\"Enter the value of side-a : \"))\n",
    "b=float(input(\"Enter the value of side-b : \"))\n",
    "print(\"the hypotenuse of triangle is : \")\n",
    "triangle(a,b)  "
   ]
  },
  {
   "cell_type": "markdown",
   "metadata": {
    "id": "6NTx96FCR70A"
   },
   "source": [
    "2. An online retailer provides express shipping for many of its items at a rate of $10.95 for the first item, and $2.95 for each subsequent item. Write a function that takes the number of items in the order as its only parameter. Return the shipping charge for the order as the function’s result. Include a main program that reads the number of items purchased from the user and displays the shipping charge."
   ]
  },
  {
   "cell_type": "code",
   "execution_count": null,
   "metadata": {
    "colab": {
     "base_uri": "https://localhost:8080/"
    },
    "executionInfo": {
     "elapsed": 3576,
     "status": "ok",
     "timestamp": 1680626582858,
     "user": {
      "displayName": "swamy maska",
      "userId": "09495458393053366071"
     },
     "user_tz": -330
    },
    "id": "HlqWNy5MC5pp",
    "outputId": "a91e93a0-865f-452d-f583-98a02702cebd"
   },
   "outputs": [
    {
     "name": "stdout",
     "output_type": "stream",
     "text": [
      "Enter the number of items purchased are : 3\n",
      "Charge rate for 3 items is : \n"
     ]
    },
    {
     "data": {
      "text/plain": [
       "16.85"
      ]
     },
     "execution_count": 28,
     "metadata": {},
     "output_type": "execute_result"
    }
   ],
   "source": [
    "# 1st item shipping rate 10.95\n",
    "# for next sequence items2.95\n",
    "def shipping_charge(n):\n",
    "  charge_rate_1=10.95\n",
    "  charge_rate_2=2.95\n",
    "  if n==1:\n",
    "    return charge_rate_1\n",
    "  else:\n",
    "    c=0\n",
    "    for i in range(1,n):\n",
    "      c+=charge_rate_2\n",
    "    charge=c+charge_rate_1\n",
    "    return charge\n",
    "\n",
    "n=int(input(\"Enter the number of items purchased are : \"))\n",
    "print(\"Charge rate for {} items is : \".format(n))\n",
    "shipping_charge(n)\n"
   ]
  },
  {
   "cell_type": "markdown",
   "metadata": {
    "id": "7zU28P4NR_2f"
   },
   "source": [
    "3. Write a function that takes three numbers as parameters, and returns the median value of those parameters as its result. Include a main program that reads three values from the user and displays their median."
   ]
  },
  {
   "cell_type": "code",
   "execution_count": null,
   "metadata": {
    "colab": {
     "base_uri": "https://localhost:8080/"
    },
    "executionInfo": {
     "elapsed": 6423,
     "status": "ok",
     "timestamp": 1680627006370,
     "user": {
      "displayName": "swamy maska",
      "userId": "09495458393053366071"
     },
     "user_tz": -330
    },
    "id": "MV5805yGJrLZ",
    "outputId": "be20958c-b830-4ce9-bf17-fb4685003461"
   },
   "outputs": [
    {
     "name": "stdout",
     "output_type": "stream",
     "text": [
      "Enter values: 5 3 4 2 1\n",
      "The median of the given numbers is :\n"
     ]
    },
    {
     "data": {
      "text/plain": [
       "3"
      ]
     },
     "execution_count": 32,
     "metadata": {},
     "output_type": "execute_result"
    }
   ],
   "source": [
    "def median(a):\n",
    "  if len(a)%2 == 1:\n",
    "    return a[len(a)//2]\n",
    "  else:\n",
    "    return (a[len(a)//2]+a[(len(a)//2)-1])/2\n",
    "x = list(map(int, input(\"Enter values: \").split()))\n",
    "print(\"The median of the given numbers is :\")\n",
    "median(sorted(x))"
   ]
  },
  {
   "cell_type": "markdown",
   "metadata": {
    "id": "lPMyAFhJSDOt"
   },
   "source": [
    "4. Write a function that determines whether or not three lengths can form a triangle. The function will take 3 parameters and return a Boolean result. In addition, write a program that reads 3 lengths from the user and demonstrates the behavior of this function. In general, if any one length is greater than or equal to the sum of the other two then the lengths cannot be used to form a triangle. Otherwise they can form a triangle."
   ]
  },
  {
   "cell_type": "code",
   "execution_count": null,
   "metadata": {
    "colab": {
     "base_uri": "https://localhost:8080/"
    },
    "executionInfo": {
     "elapsed": 8273,
     "status": "ok",
     "timestamp": 1680627394902,
     "user": {
      "displayName": "swamy maska",
      "userId": "09495458393053366071"
     },
     "user_tz": -330
    },
    "id": "LLZlB3JiLRKW",
    "outputId": "118a3873-9479-403b-b4bb-5d5315380199"
   },
   "outputs": [
    {
     "name": "stdout",
     "output_type": "stream",
     "text": [
      "enter values sides of triangle :3 4 5\n"
     ]
    },
    {
     "data": {
      "text/plain": [
       "True"
      ]
     },
     "execution_count": 34,
     "metadata": {},
     "output_type": "execute_result"
    }
   ],
   "source": [
    "def triangle(x,y,z):\n",
    "  if x >= y+z:return False\n",
    "  elif y>=x+z:return False\n",
    "  elif z>=x+y:return False\n",
    "  else:return True\n",
    "x,y,z=list((map(int,input(\"enter values sides of triangle :\").split())))\n",
    "triangle(x,y,z)"
   ]
  },
  {
   "cell_type": "markdown",
   "metadata": {
    "id": "edJ2erLpSG9_"
   },
   "source": [
    "5. In this exercise you will write a function named isInteger that determines whether or not the characters in a string represent a valid integer. When determining if a string represents an integer you should ignore any leading or trailing white space. Once this white space is ignored, a string represents an integer if its length is at least 1 and it only contains digits, or if its first character is either + or - and the first character is followed by one or more characters, all of which are digits. Write a main program that reads a string from the user and reports whether or not it represents an integer."
   ]
  },
  {
   "cell_type": "code",
   "execution_count": 44,
   "metadata": {
    "id": "gnDEPSNUMwL-"
   },
   "outputs": [
    {
     "name": "stdout",
     "output_type": "stream",
     "text": [
      "Enter the string : +1234\n"
     ]
    },
    {
     "data": {
      "text/plain": [
       "True"
      ]
     },
     "execution_count": 44,
     "metadata": {},
     "output_type": "execute_result"
    }
   ],
   "source": [
    "def isInteger(s):\n",
    "    s = s.strip()\n",
    "    if (s[0] ==  \"+\"  or  s[0] == \"-\")   and   s[1:].isdigit():\n",
    "        return     True\n",
    "    elif s.isdigit():\n",
    "        return    True\n",
    "    else:\n",
    "        return    False\n",
    "s=input(\"Enter the string : \")\n",
    "isInteger(s)"
   ]
  },
  {
   "cell_type": "markdown",
   "metadata": {
    "id": "fxD9EaFNSK4Q"
   },
   "source": [
    "6. In this exercise you will create a function named nextPrime that finds and returns the first prime number larger than some integer, n. The value of n will be passed to the function as its only parameter. Include a main program that reads an integer from the user and displays the first prime number larger than the entered value."
   ]
  },
  {
   "cell_type": "code",
   "execution_count": null,
   "metadata": {
    "colab": {
     "base_uri": "https://localhost:8080/"
    },
    "executionInfo": {
     "elapsed": 4376,
     "status": "ok",
     "timestamp": 1680848768360,
     "user": {
      "displayName": "swamy maska",
      "userId": "09495458393053366071"
     },
     "user_tz": -330
    },
    "id": "qtZkQWy2M_H1",
    "outputId": "82e5de43-1e11-4174-d0e6-cebab8734d6c"
   },
   "outputs": [
    {
     "name": "stdout",
     "output_type": "stream",
     "text": [
      "Enter the value of n :20\n",
      "23\n"
     ]
    }
   ],
   "source": [
    "def nextPrime(n):\n",
    "  if n==2:\n",
    "    print(n,\"is prim number\")\n",
    "  else:\n",
    "    while n>2:\n",
    "      count=0\n",
    "      if n%2==1:\n",
    "        for i in range(1,n+1):\n",
    "          if n%i==0:\n",
    "            count+=1\n",
    "        if count==2:\n",
    "          print(n)\n",
    "          break\n",
    "      n+=1\n",
    "n=int(input(\"Enter the value of n :\"))\n",
    "nextPrime(n)"
   ]
  },
  {
   "cell_type": "markdown",
   "metadata": {
    "id": "fCiKfbSBSOkN"
   },
   "source": [
    "7. In this exercise you will write a function that determines whether or not a password is good. We will define a good password to be a one that is at least 8 characters long and contains at least one uppercase letter, at least one lowercase letter, and at least one number. Your function should return true if the password passed to it as its only parameter is good. Otherwise it should return false. Include a main program that reads a password from the user and reports whether or not it is good."
   ]
  },
  {
   "cell_type": "code",
   "execution_count": 24,
   "metadata": {
    "colab": {
     "base_uri": "https://localhost:8080/"
    },
    "executionInfo": {
     "elapsed": 12896,
     "status": "ok",
     "timestamp": 1680960315933,
     "user": {
      "displayName": "swamy maska",
      "userId": "09495458393053366071"
     },
     "user_tz": -330
    },
    "id": "cvyerQ6TZcmm",
    "outputId": "5fa56450-7b01-4bc0-c35f-407da1553a06"
   },
   "outputs": [
    {
     "name": "stdout",
     "output_type": "stream",
     "text": [
      "Enter the passward have atleast 8 chars : Maskaswamy791#\n",
      "True\n"
     ]
    }
   ],
   "source": [
    "def pass1(n):\n",
    "  if len(n)>8:\n",
    "    count=0\n",
    "    for i in n:\n",
    "      if i.isupper() or i.islower() or i.isnumeric() or i in \"@#$%&*\":\n",
    "        count+=1\n",
    "    if count == len(n):\n",
    "      print(\"True\")\n",
    "    else:\n",
    "      print(\"Enter correct password \")\n",
    "n=input(\"Enter the passward have atleast 8 chars : \")\n",
    "pass1(n)"
   ]
  },
  {
   "cell_type": "markdown",
   "metadata": {
    "id": "ZSSe4k_eSSAk"
   },
   "source": [
    "8. Write a program that reads values from the user until a blank line is entered. Display the total of all of the values entered by the user (or 0.0 if the first value entered is a blank line). Complete this task using recursion. Your program may not use any loops. The body of your recursive function will need to read one value from the user, and then determine whether or not to make a recursive call. Your function does not need to take any parameters, but it will need to return a numeric result."
   ]
  },
  {
   "cell_type": "code",
   "execution_count": 35,
   "metadata": {
    "colab": {
     "base_uri": "https://localhost:8080/"
    },
    "executionInfo": {
     "elapsed": 41546,
     "status": "ok",
     "timestamp": 1681022727609,
     "user": {
      "displayName": "swamy maska",
      "userId": "09495458393053366071"
     },
     "user_tz": -330
    },
    "id": "A2pWqn5ENAfj",
    "outputId": "2778b830-06fa-4b42-bfc0-2879f8f2952b"
   },
   "outputs": [
    {
     "name": "stdout",
     "output_type": "stream",
     "text": [
      "Enter the value of n : M\n",
      "Enter the value of n : a\n",
      "Enter the value of n : s\n",
      "Enter the value of n : k\n",
      "Enter the value of n : a\n",
      "Enter the value of n : s\n",
      "Enter the value of n : w\n",
      "Enter the value of n : a\n",
      "Enter the value of n : m\n",
      "Enter the value of n : y\n",
      "Enter the value of n : 7\n",
      "Enter the value of n : 9\n",
      "Enter the value of n : 1\n",
      "Enter the value of n : @\n",
      "Enter the value of n : \n",
      "Entered values of n are :  ['M', 'a', 's', 'k', 'a', 's', 'w', 'a', 'm', 'y', '7', '9', '1', '@']\n"
     ]
    }
   ],
   "source": [
    "n=input(\"Enter the value of n : \")\n",
    "if len(n)==0:\n",
    "  print(0.0)\n",
    "else:\n",
    "  l=[]\n",
    "  def func(n):\n",
    "    if len(n)!=0:\n",
    "      l.append(n)\n",
    "      return n, func(input(\"Enter the value of n : \"))\n",
    "    print(\"Entered values of n are : \",l)\n",
    "  func(n)"
   ]
  },
  {
   "cell_type": "markdown",
   "metadata": {
    "id": "Ll6-U4UOSVr3"
   },
   "source": [
    "9. In this exercise you will write a recursive function that determines whether or not a string is a palindrome. The empty string is a palindrome, as is any string containing only one character. Any longer string is a palindrome if its first and last characters match, and if the string formed by removing the first and last characters is also a palindrome. Write a main program that reads a string from the user. Use your recursive function to determine whether or not the string is a palindrome. Then display an appropriate message for the user.\n",
    " "
   ]
  },
  {
   "cell_type": "code",
   "execution_count": 51,
   "metadata": {
    "colab": {
     "base_uri": "https://localhost:8080/"
    },
    "executionInfo": {
     "elapsed": 9729,
     "status": "ok",
     "timestamp": 1681031329037,
     "user": {
      "displayName": "swamy maska",
      "userId": "09495458393053366071"
     },
     "user_tz": -330
    },
    "id": "gJ16b7XKNBF5",
    "outputId": "9a089d14-075b-4d42-cb4b-31378033661a"
   },
   "outputs": [
    {
     "name": "stdout",
     "output_type": "stream",
     "text": [
      "Enter the string : ABCDCBA\n",
      "given string is polindrome\n"
     ]
    }
   ],
   "source": [
    "# ABCDCBA  Polindrome\n",
    "n=list(input(\"Enter the string : \"))\n",
    "n1=[]\n",
    "x=len(n)\n",
    "def palindrome(x):\n",
    "  if x!=0:\n",
    "    n1.append(n[x-1])\n",
    "    return palindrome(x-1)\n",
    "  if n==n1:\n",
    "    print(\"given string is polindrome\")\n",
    "  else:\n",
    "    print(\"entered string is not a polindrome\")\n",
    "palindrome(x)\n"
   ]
  },
  {
   "cell_type": "markdown",
   "metadata": {
    "id": "vuRR2cu9SZ9O"
   },
   "source": [
    "10. Write a function that takes a list of strings as its only parameter. Your function should return a string that contains all of the items in the list formatted in the manner described previously as its only result. While the examples shown previously only include lists containing four elements or less, your function should behave correctly for lists of any length. Include a main program that reads several items from the user, formats them by calling your function, and then displays the result returned by the function. Consider the following four lists:\n",
    "\n",
    "apples\n",
    "\n",
    "apples and oranges\n",
    "\n",
    "apples, oranges and bananas\n",
    "\n",
    "apples, oranges, bananas and lemons"
   ]
  },
  {
   "cell_type": "code",
   "execution_count": 138,
   "metadata": {
    "executionInfo": {
     "elapsed": 537,
     "status": "ok",
     "timestamp": 1681030107516,
     "user": {
      "displayName": "swamy maska",
      "userId": "09495458393053366071"
     },
     "user_tz": -330
    },
    "id": "oeUsJMb9F8Sw"
   },
   "outputs": [
    {
     "name": "stdout",
     "output_type": "stream",
     "text": [
      "enter string : apples\n",
      "enter string : oranges\n",
      "enter string : bananas\n",
      "enter string : lemons\n",
      "enter string : \n",
      "apples, oranges, bananas and lemons "
     ]
    }
   ],
   "source": [
    "def fun_1(s):\n",
    "    if len(s)==1:\n",
    "        print(s[0])\n",
    "    for i in range(len(s)-1):\n",
    "        print(s[i],end=\"\")\n",
    "        if i<len(s)-2:\n",
    "            print(\",\",end=\" \")\n",
    "        else:\n",
    "            print(\" and\",s[len(s)-1],end=\" \")\n",
    "\n",
    "s=[]\n",
    "while True:\n",
    "    n=input(\"enter string : \")\n",
    "    if len(n)!=0:\n",
    "        s.append(n)\n",
    "    else:\n",
    "        break\n",
    "\n",
    "fun_1(s)"
   ]
  },
  {
   "cell_type": "code",
   "execution_count": null,
   "metadata": {
    "id": "pabhukT9MmuZ"
   },
   "outputs": [],
   "source": []
  },
  {
   "cell_type": "code",
   "execution_count": 82,
   "metadata": {},
   "outputs": [],
   "source": []
  },
  {
   "cell_type": "code",
   "execution_count": null,
   "metadata": {},
   "outputs": [],
   "source": []
  }
 ],
 "metadata": {
  "colab": {
   "authorship_tag": "ABX9TyNyL06lKELd5ZCMVRxfal6e",
   "provenance": []
  },
  "kernelspec": {
   "display_name": "Python 3 (ipykernel)",
   "language": "python",
   "name": "python3"
  },
  "language_info": {
   "codemirror_mode": {
    "name": "ipython",
    "version": 3
   },
   "file_extension": ".py",
   "mimetype": "text/x-python",
   "name": "python",
   "nbconvert_exporter": "python",
   "pygments_lexer": "ipython3",
   "version": "3.10.9"
  }
 },
 "nbformat": 4,
 "nbformat_minor": 1
}
